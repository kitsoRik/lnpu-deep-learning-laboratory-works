{
 "cells": [
  {
   "cell_type": "markdown",
   "metadata": {},
   "source": [
    "# Task 2"
   ]
  },
  {
   "cell_type": "code",
   "execution_count": 1,
   "metadata": {
    "pycharm": {
     "is_executing": true
    }
   },
   "outputs": [],
   "source": [
    "# import dependencies\n",
    "\n",
    "import pandas as pd\n",
    "import matplotlib.pyplot as plt\n",
    "\n",
    "from keras import Sequential\n",
    "from keras.utils import to_categorical\n",
    "from keras.layers import Dense, Conv2D, MaxPooling2D, Dropout, Flatten, AveragePooling2D\n",
    "from keras.optimizers import Adam, Nadam, RMSprop, SGD, Adagrad, Adadelta, Adamax\n",
    "from keras.callbacks import Callback, ReduceLROnPlateau\n",
    "from keras.preprocessing.image import ImageDataGenerator\n",
    "\n",
    "from sklearn.model_selection import train_test_split"
   ]
  },
  {
   "cell_type": "code",
   "execution_count": 2,
   "metadata": {
    "pycharm": {
     "is_executing": true
    }
   },
   "outputs": [],
   "source": [
    "# loading dataset\n",
    "data = pd.read_csv('../datasets/train.csv')"
   ]
  },
  {
   "cell_type": "code",
   "execution_count": 3,
   "metadata": {
    "pycharm": {
     "is_executing": true
    }
   },
   "outputs": [],
   "source": [
    "# extracting labels\n",
    "X_data = data.drop(['label'], axis=1)\n",
    "Y_data = data['label']"
   ]
  },
  {
   "cell_type": "code",
   "execution_count": 4,
   "metadata": {
    "pycharm": {
     "is_executing": true
    }
   },
   "outputs": [],
   "source": [
    "# splitting data for train and validation\n",
    "X_train, X_val, Y_train, Y_val = train_test_split(X_data, Y_data, test_size=0.2, random_state=2)"
   ]
  },
  {
   "cell_type": "code",
   "execution_count": 5,
   "metadata": {
    "pycharm": {
     "is_executing": true
    }
   },
   "outputs": [],
   "source": [
    "# normalizing data\n",
    "X_train = X_train / 255.0\n",
    "X_val = X_val / 255.0\n",
    "\n",
    "Y_train = to_categorical(Y_train, num_classes=10)\n",
    "Y_val = to_categorical(Y_val, num_classes=10)"
   ]
  },
  {
   "cell_type": "code",
   "execution_count": 6,
   "metadata": {
    "pycharm": {
     "is_executing": true
    }
   },
   "outputs": [],
   "source": [
    "# reshaping data\n",
    "X_train = X_train.values.reshape(-1,28,28,1)\n",
    "X_val = X_val.values.reshape(-1,28,28,1)"
   ]
  },
  {
   "cell_type": "markdown",
   "metadata": {},
   "source": [
    "# Comparing with LeNet-5"
   ]
  },
  {
   "cell_type": "code",
   "execution_count": 7,
   "metadata": {
    "pycharm": {
     "is_executing": true
    }
   },
   "outputs": [],
   "source": [
    "# initializing LeNet-5\n",
    "\n",
    "lenet_model = Sequential()\n",
    "lenet_model.add(Conv2D(filters=32, kernel_size=(5,5), padding='same', activation='relu',\n",
    "                 input_shape=(28, 28, 1)))\n",
    "lenet_model.add(AveragePooling2D(strides=2))\n",
    "lenet_model.add(Conv2D(filters=48, kernel_size=(5,5), padding='valid', activation='relu')\n",
    "          )\n",
    "lenet_model.add(AveragePooling2D(strides=2))\n",
    "lenet_model.add(Flatten())\n",
    "lenet_model.add(Dense(256, activation='relu'))\n",
    "lenet_model.add(Dense(84, activation='relu'))\n",
    "lenet_model.add(Dense(10, activation='softmax'))"
   ]
  },
  {
   "cell_type": "code",
   "execution_count": 8,
   "metadata": {
    "pycharm": {
     "is_executing": true
    }
   },
   "outputs": [],
   "source": [
    "# compile LeNet model\n",
    "lenet_model.compile(loss='categorical_crossentropy', metrics=['accuracy'], optimizer=Adam(learning_rate=5e-4))"
   ]
  },
  {
   "cell_type": "code",
   "execution_count": 9,
   "metadata": {
    "pycharm": {
     "is_executing": true
    }
   },
   "outputs": [],
   "source": [
    "# initializing reduce lr callback\n",
    "lenet_reduce_lr = ReduceLROnPlateau(monitor='val_accuracy', patience=3, verbose=1, factor=0.2, min_lr=1e-6)"
   ]
  },
  {
   "cell_type": "code",
   "execution_count": 10,
   "metadata": {
    "pycharm": {
     "is_executing": true
    }
   },
   "outputs": [],
   "source": [
    "data_generator = ImageDataGenerator(\n",
    "    rotation_range=10,\n",
    "    width_shift_range=0.1,\n",
    "    height_shift_range=0.1,\n",
    "    zoom_range=0.1)\n",
    "data_generator.fit(X_train)"
   ]
  },
  {
   "cell_type": "code",
   "execution_count": null,
   "metadata": {
    "pycharm": {
     "is_executing": true
    }
   },
   "outputs": [
    {
     "name": "stderr",
     "output_type": "stream",
     "text": [
      "2022-11-13 22:19:10.692267: W tensorflow/core/platform/profile_utils/cpu_utils.cc:128] Failed to get CPU frequency: 0 Hz\n"
     ]
    }
   ],
   "source": [
    "# fit LeNet model\n",
    "lenet_model_history = lenet_model.fit(data_generator.flow(X_train, Y_train, batch_size=100), steps_per_epoch=len(X_train) / 100, epochs=30, validation_data=(X_val, Y_val), callbacks=[lenet_reduce_lr], verbose=0)"
   ]
  },
  {
   "cell_type": "code",
   "execution_count": null,
   "metadata": {
    "pycharm": {
     "is_executing": true
    }
   },
   "outputs": [],
   "source": [
    "# printing LeNet model's score\n",
    "score = lenet_model.evaluate(X_val, Y_val, batch_size=32)\n",
    "\n",
    "print(score)"
   ]
  },
  {
   "cell_type": "code",
   "execution_count": null,
   "metadata": {
    "pycharm": {
     "is_executing": true
    }
   },
   "outputs": [],
   "source": [
    "# initializing the best model from previous task\n",
    "\n",
    "standard_model = Sequential()\n",
    "standard_model.add(Conv2D(filters=8, kernel_size=(3, 6), padding='same', activation='relu', input_shape=(28, 28, 1)))\n",
    "standard_model.add(MaxPooling2D(pool_size=(2, 2)))\n",
    "standard_model.add(Conv2D(filters=16, kernel_size=(10, 5), padding='same',activation='relu')),\n",
    "standard_model.add(MaxPooling2D(pool_size=(2, 2), strides=(2, 2)),)\n",
    "standard_model.add(Conv2D(filters=16, kernel_size=(3, 6), padding='same', activation='relu'))\n",
    "standard_model.add(MaxPooling2D(pool_size=(2, 2), strides=(2, 2)))\n",
    "standard_model.add(Flatten())\n",
    "standard_model.add(Dense(256, activation='relu'))\n",
    "standard_model.add(Dropout(0.25))\n",
    "standard_model.add(Dense(10, activation='softmax'))\n",
    "\n",
    "standard_model.compile(loss='categorical_crossentropy', metrics=['accuracy'], optimizer=Adam(learning_rate=0.0005))\n",
    "\n",
    "standard_model_history = standard_model.fit(data_generator.flow(X_train, Y_train, batch_size=256), epochs=50, validation_data=(X_val, Y_val), verbose=0)"
   ]
  },
  {
   "cell_type": "code",
   "execution_count": null,
   "metadata": {
    "pycharm": {
     "is_executing": true
    }
   },
   "outputs": [],
   "source": [
    "# printing standard model's score\n",
    "score = standard_model.evaluate(X_val, Y_val, batch_size=32)\n",
    "\n",
    "print(score)"
   ]
  },
  {
   "cell_type": "code",
   "execution_count": null,
   "metadata": {
    "pycharm": {
     "is_executing": true
    }
   },
   "outputs": [],
   "source": [
    "plt.figure()\n",
    "plt.title(\"LeNet vs Standard\")\n",
    "plt.ylabel(\"Accuracy\")\n",
    "plt.xlabel(\"Epoch\")\n",
    "plt.plot(lenet_model_history.history['accuracy'])\n",
    "plt.plot(lenet_model_history.history['val_accuracy'])\n",
    "plt.plot(standard_model_history.history['accuracy'])\n",
    "plt.plot(standard_model_history.history['val_accuracy'])\n",
    "plt.legend(['LeNet Accuracy', 'LeNet Validation Accuracy', 'Standard Accuracy', 'Standard Validation Accuracy'], loc='lower right')\n",
    "plt.show()"
   ]
  },
  {
   "cell_type": "markdown",
   "metadata": {},
   "source": []
  }
 ],
 "metadata": {
  "kernelspec": {
   "display_name": "Python 3 (ipykernel)",
   "language": "python",
   "name": "python3"
  },
  "language_info": {
   "codemirror_mode": {
    "name": "ipython",
    "version": 3
   },
   "file_extension": ".py",
   "mimetype": "text/x-python",
   "name": "python",
   "nbconvert_exporter": "python",
   "pygments_lexer": "ipython3",
   "version": "3.10.6"
  }
 },
 "nbformat": 4,
 "nbformat_minor": 1
}
